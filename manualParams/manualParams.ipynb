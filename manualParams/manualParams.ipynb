{
 "cells": [
  {
   "cell_type": "code",
   "execution_count": 3,
   "metadata": {},
   "outputs": [],
   "source": [
    "# External libraries\n",
    "import pandas as pd\n",
    "import numpy as np"
   ]
  },
  {
   "cell_type": "code",
   "execution_count": 6,
   "metadata": {},
   "outputs": [
    {
     "name": "stdout",
     "output_type": "stream",
     "text": [
      "[[7.00e+00 3.50e+01 2.10e+01 2.00e-01 1.65e+00 6.00e-02]\n",
      " [9.00e+00 3.00e+01 3.00e+01 3.00e-01 1.25e+00 1.90e-01]\n",
      " [3.00e+00 1.70e+01 8.00e+00 3.00e-01 1.55e+00 2.00e-02]\n",
      " [8.00e+00 3.30e+01 2.60e+01 8.50e-01 2.00e+00 3.30e-01]\n",
      " [4.00e+00 1.80e+01 1.00e+00 9.00e-01 1.65e+00 3.40e-01]\n",
      " [5.00e+00 2.60e+01 1.00e+01 7.00e-01 1.70e+00 1.70e-01]\n",
      " [6.00e+00 3.60e+01 1.00e+01 7.00e-01 1.80e+00 3.80e-01]\n",
      " [1.10e+01 4.40e+01 8.00e+00 9.50e-01 1.10e+00 3.90e-01]\n",
      " [8.00e+00 2.60e+01 3.80e+01 4.50e-01 1.50e+00 1.90e-01]\n",
      " [1.00e+01 5.00e+01 3.80e+01 1.50e-01 1.85e+00 2.10e-01]\n",
      " [4.00e+00 3.70e+01 2.50e+01 2.50e-01 2.00e+00 2.80e-01]\n",
      " [6.00e+00 4.20e+01 9.00e+00 9.50e-01 1.60e+00 1.20e-01]\n",
      " [2.00e+00 3.70e+01 7.00e+00 8.50e-01 1.55e+00 3.40e-01]\n",
      " [7.00e+00 4.90e+01 4.00e+01 4.00e-01 1.75e+00 1.30e-01]\n",
      " [3.00e+00 3.00e+01 4.20e+01 2.50e-01 1.60e+00 1.90e-01]\n",
      " [3.00e+00 3.60e+01 5.00e+01 6.00e-01 1.20e+00 4.50e-01]\n",
      " [3.30e+01 2.90e+01 2.00e+00 3.50e-01 2.00e+00 7.00e-02]\n",
      " [4.00e+00 2.80e+01 1.60e+01 6.50e-01 1.10e+00 5.00e-02]\n",
      " [2.00e+00 3.30e+01 4.00e+00 6.50e-01 1.85e+00 3.00e-02]\n",
      " [1.20e+01 3.70e+01 4.00e+01 7.00e-01 1.75e+00 2.30e-01]\n",
      " [1.00e+00 5.00e+01 2.40e+01 9.00e-01 1.05e+00 4.30e-01]\n",
      " [8.00e+00 4.50e+01 3.00e+01 1.50e-01 1.10e+00 3.80e-01]\n",
      " [6.00e+00 4.60e+01 1.30e+01 8.00e-01 1.90e+00 1.80e-01]\n",
      " [2.00e+00 2.20e+01 2.60e+01 3.50e-01 1.55e+00 4.40e-01]\n",
      " [4.00e+00 3.60e+01 1.10e+01 4.50e-01 1.45e+00 2.60e-01]\n",
      " [2.00e+00 7.00e+00 3.00e+00 8.50e-01 1.70e+00 3.60e-01]\n",
      " [5.00e+00 5.00e+01 3.70e+01 1.50e-01 1.05e+00 3.50e-01]\n",
      " [3.00e+00 3.60e+01 4.80e+01 9.00e-01 1.35e+00 2.90e-01]\n",
      " [3.00e+00 2.70e+01 2.10e+01 1.50e-01 1.85e+00 1.20e-01]\n",
      " [1.60e+01 5.00e+01 3.20e+01 5.50e-01 1.35e+00 2.00e-02]]\n"
     ]
    }
   ],
   "source": [
    "params1 = pd.read_excel(f\"DB_RVE_14_0_D_converging_params.xlsx\" , skiprows= 8, nrows=30, usecols = \"A:F\").to_numpy()\n",
    "params2 = pd.read_excel(f\"DB_RVE_14_0_D_converging_params.xlsx\" , skiprows= 8, nrows=30, usecols = \"H:M\").to_numpy()\n",
    "params3 = pd.read_excel(f\"DB_RVE_14_0_D_converging_params.xlsx\" , skiprows= 8, nrows=30, usecols = \"O:T\").to_numpy()\n",
    "print(params1)\n",
    "np.save(f'DB1.npy', params1)\n",
    "np.save(f'DB2.npy', params1)\n",
    "np.save(f'DB3.npy', params1)\n",
    "# To use them, copy these part to convert them to a list of tuples\n",
    "# manualParams1 = np.load(f'manualParams/manualParams1.npy', allow_pickle=True)\n",
    "# manualParams1 = list(map(lambda x: tuple(x), params1))"
   ]
  }
 ],
 "metadata": {
  "kernelspec": {
   "display_name": "Python 3.10.5 64-bit",
   "language": "python",
   "name": "python3"
  },
  "language_info": {
   "codemirror_mode": {
    "name": "ipython",
    "version": 3
   },
   "file_extension": ".py",
   "mimetype": "text/x-python",
   "name": "python",
   "nbconvert_exporter": "python",
   "pygments_lexer": "ipython3",
   "version": "3.10.5"
  },
  "orig_nbformat": 4,
  "vscode": {
   "interpreter": {
    "hash": "3bc1a11519d29b3ed6f08646f3ece60640217e649724c6bcfd38e1173c1a1bce"
   }
  }
 },
 "nbformat": 4,
 "nbformat_minor": 2
}
